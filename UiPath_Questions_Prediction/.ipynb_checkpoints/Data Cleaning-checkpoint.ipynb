{
 "cells": [
  {
   "cell_type": "code",
   "execution_count": 5,
   "metadata": {},
   "outputs": [],
   "source": [
    "import pandas as pd\n",
    "import numpy as np\n",
    "import seaborn as sns"
   ]
  },
  {
   "cell_type": "code",
   "execution_count": 2,
   "metadata": {},
   "outputs": [],
   "source": [
    "df = pd.read_excel('data.xlsx')"
   ]
  },
  {
   "cell_type": "code",
   "execution_count": 3,
   "metadata": {},
   "outputs": [
    {
     "data": {
      "text/html": [
       "<div>\n",
       "<style scoped>\n",
       "    .dataframe tbody tr th:only-of-type {\n",
       "        vertical-align: middle;\n",
       "    }\n",
       "\n",
       "    .dataframe tbody tr th {\n",
       "        vertical-align: top;\n",
       "    }\n",
       "\n",
       "    .dataframe thead th {\n",
       "        text-align: right;\n",
       "    }\n",
       "</style>\n",
       "<table border=\"1\" class=\"dataframe\">\n",
       "  <thead>\n",
       "    <tr style=\"text-align: right;\">\n",
       "      <th></th>\n",
       "      <th>CaseNumber</th>\n",
       "      <th>Description</th>\n",
       "      <th>Related_To__c</th>\n",
       "      <th>Sub_Component__c</th>\n",
       "      <th>Subject</th>\n",
       "    </tr>\n",
       "  </thead>\n",
       "  <tbody>\n",
       "    <tr>\n",
       "      <th>0</th>\n",
       "      <td>344450</td>\n",
       "      <td>Hello!\\r\\n\\r\\nI am getting an issue when I try...</td>\n",
       "      <td>Studio</td>\n",
       "      <td>Activities_Web</td>\n",
       "      <td>SOAP Request: There was an error in compiling ...</td>\n",
       "    </tr>\n",
       "    <tr>\n",
       "      <th>1</th>\n",
       "      <td>344502</td>\n",
       "      <td>When downloading file from website, the save a...</td>\n",
       "      <td>Studio</td>\n",
       "      <td>Activities_Core</td>\n",
       "      <td>How to judge when the save button become activ...</td>\n",
       "    </tr>\n",
       "    <tr>\n",
       "      <th>2</th>\n",
       "      <td>344527</td>\n",
       "      <td>Unable to publish workflow from studio which i...</td>\n",
       "      <td>Studio</td>\n",
       "      <td>Studio_packages</td>\n",
       "      <td>Unable to publish workflow.</td>\n",
       "    </tr>\n",
       "    <tr>\n",
       "      <th>3</th>\n",
       "      <td>344556</td>\n",
       "      <td>Good Day guys,\\r\\n\\r\\nI have raised a technica...</td>\n",
       "      <td>Studio</td>\n",
       "      <td>UiAutomation</td>\n",
       "      <td>C++ runtime error: P6025 Pure virtual function...</td>\n",
       "    </tr>\n",
       "    <tr>\n",
       "      <th>4</th>\n",
       "      <td>344557</td>\n",
       "      <td>Regutil을 이용하여 라이센스 activate 시도시 오류 발생\\r\\nError...</td>\n",
       "      <td>Orchestrator</td>\n",
       "      <td>License</td>\n",
       "      <td>라이선스 갱신 오류 관련</td>\n",
       "    </tr>\n",
       "  </tbody>\n",
       "</table>\n",
       "</div>"
      ],
      "text/plain": [
       "   CaseNumber                                        Description  \\\n",
       "0      344450  Hello!\\r\\n\\r\\nI am getting an issue when I try...   \n",
       "1      344502  When downloading file from website, the save a...   \n",
       "2      344527  Unable to publish workflow from studio which i...   \n",
       "3      344556  Good Day guys,\\r\\n\\r\\nI have raised a technica...   \n",
       "4      344557  Regutil을 이용하여 라이센스 activate 시도시 오류 발생\\r\\nError...   \n",
       "\n",
       "  Related_To__c Sub_Component__c  \\\n",
       "0        Studio   Activities_Web   \n",
       "1        Studio  Activities_Core   \n",
       "2        Studio  Studio_packages   \n",
       "3        Studio     UiAutomation   \n",
       "4  Orchestrator          License   \n",
       "\n",
       "                                             Subject  \n",
       "0  SOAP Request: There was an error in compiling ...  \n",
       "1  How to judge when the save button become activ...  \n",
       "2                        Unable to publish workflow.  \n",
       "3  C++ runtime error: P6025 Pure virtual function...  \n",
       "4                                      라이선스 갱신 오류 관련  "
      ]
     },
     "execution_count": 3,
     "metadata": {},
     "output_type": "execute_result"
    }
   ],
   "source": [
    "df.head()"
   ]
  },
  {
   "cell_type": "code",
   "execution_count": 4,
   "metadata": {},
   "outputs": [
    {
     "data": {
      "text/plain": [
       "Orchestrator          749\n",
       "Studio                653\n",
       "Robot                 380\n",
       "Partner Product        68\n",
       "Cloud Platform         13\n",
       "Connect Enterprise      6\n",
       "Name: Related_To__c, dtype: int64"
      ]
     },
     "execution_count": 4,
     "metadata": {},
     "output_type": "execute_result"
    }
   ],
   "source": [
    "df['Related_To__c'].value_counts()"
   ]
  },
  {
   "cell_type": "code",
   "execution_count": 7,
   "metadata": {},
   "outputs": [
    {
     "data": {
      "text/plain": [
       "<matplotlib.axes._subplots.AxesSubplot at 0x176ffb8f0b8>"
      ]
     },
     "execution_count": 7,
     "metadata": {},
     "output_type": "execute_result"
    },
    {
     "data": {
      "image/png": "[encoded data removed]",
      "text/plain": [
       "<Figure size 432x288 with 1 Axes>"
      ]
     },
     "metadata": {
      "needs_background": "light"
     },
     "output_type": "display_data"
    }
   ],
   "source": [
    "sns.countplot(df['Related_To__c'])"
   ]
  },
  {
   "cell_type": "code",
   "execution_count": 8,
   "metadata": {},
   "outputs": [
    {
     "data": {
      "text/html": [
       "<div>\n",
       "<style scoped>\n",
       "    .dataframe tbody tr th:only-of-type {\n",
       "        vertical-align: middle;\n",
       "    }\n",
       "\n",
       "    .dataframe tbody tr th {\n",
       "        vertical-align: top;\n",
       "    }\n",
       "\n",
       "    .dataframe thead th {\n",
       "        text-align: right;\n",
       "    }\n",
       "</style>\n",
       "<table border=\"1\" class=\"dataframe\">\n",
       "  <thead>\n",
       "    <tr style=\"text-align: right;\">\n",
       "      <th></th>\n",
       "      <th>CaseNumber</th>\n",
       "      <th>Description</th>\n",
       "      <th>Related_To__c</th>\n",
       "      <th>Sub_Component__c</th>\n",
       "      <th>Subject</th>\n",
       "    </tr>\n",
       "  </thead>\n",
       "  <tbody>\n",
       "    <tr>\n",
       "      <th>1172</th>\n",
       "      <td>362331</td>\n",
       "      <td>Creating a new ticket after discussion with Ra...</td>\n",
       "      <td>Orchestrator</td>\n",
       "      <td>Packages</td>\n",
       "      <td>Orchestrator Technical Support</td>\n",
       "    </tr>\n",
       "    <tr>\n",
       "      <th>300</th>\n",
       "      <td>356378</td>\n",
       "      <td>Hi,\\r\\nIn my process, i am giving input in a a...</td>\n",
       "      <td>Studio</td>\n",
       "      <td>UiAutomation</td>\n",
       "      <td>After triggering attended robot using user eve...</td>\n",
       "    </tr>\n",
       "    <tr>\n",
       "      <th>1793</th>\n",
       "      <td>367144</td>\n",
       "      <td>When upgrading to the latest LTS Orchestrator ...</td>\n",
       "      <td>Orchestrator</td>\n",
       "      <td>Upgrade</td>\n",
       "      <td>Issue Updating Production Orchestrator</td>\n",
       "    </tr>\n",
       "    <tr>\n",
       "      <th>337</th>\n",
       "      <td>356645</td>\n",
       "      <td>When we try to run the process from Orchestrat...</td>\n",
       "      <td>Robot</td>\n",
       "      <td>Robot_Resolution</td>\n",
       "      <td>Robot screen resolution problem</td>\n",
       "    </tr>\n",
       "    <tr>\n",
       "      <th>1502</th>\n",
       "      <td>364842</td>\n",
       "      <td>I have a test Process that just opens a web pa...</td>\n",
       "      <td>Robot</td>\n",
       "      <td>Driver_Firefox</td>\n",
       "      <td>Still Problems with Firefox Extension</td>\n",
       "    </tr>\n",
       "    <tr>\n",
       "      <th>1552</th>\n",
       "      <td>365153</td>\n",
       "      <td>After upgrading to Orchestrator version 2019.4...</td>\n",
       "      <td>Orchestrator</td>\n",
       "      <td>Upgrade</td>\n",
       "      <td>Orchestrator application automatically stops a...</td>\n",
       "    </tr>\n",
       "    <tr>\n",
       "      <th>1598</th>\n",
       "      <td>365561</td>\n",
       "      <td>UiPath needs to run as administrator to get th...</td>\n",
       "      <td>Studio</td>\n",
       "      <td>Selectors</td>\n",
       "      <td>admin access is needed for UiPath to get the s...</td>\n",
       "    </tr>\n",
       "    <tr>\n",
       "      <th>1763</th>\n",
       "      <td>366924</td>\n",
       "      <td>We have issue on installation orchestrator. We...</td>\n",
       "      <td>Orchestrator</td>\n",
       "      <td>Installation</td>\n",
       "      <td>Unable to install orchestrator</td>\n",
       "    </tr>\n",
       "    <tr>\n",
       "      <th>1812</th>\n",
       "      <td>367358</td>\n",
       "      <td>Hi\\r\\n\\r\\nOur company has a on-premise orchest...</td>\n",
       "      <td>Orchestrator</td>\n",
       "      <td>Installation</td>\n",
       "      <td>Do you have an orchestrator implementation plan?</td>\n",
       "    </tr>\n",
       "    <tr>\n",
       "      <th>1521</th>\n",
       "      <td>364996</td>\n",
       "      <td>We don't have net connectivity for the VDI(Orc...</td>\n",
       "      <td>Orchestrator</td>\n",
       "      <td>Packages</td>\n",
       "      <td>Need help on updating packages for Studio/Orch...</td>\n",
       "    </tr>\n",
       "  </tbody>\n",
       "</table>\n",
       "</div>"
      ],
      "text/plain": [
       "      CaseNumber                                        Description  \\\n",
       "1172      362331  Creating a new ticket after discussion with Ra...   \n",
       "300       356378  Hi,\\r\\nIn my process, i am giving input in a a...   \n",
       "1793      367144  When upgrading to the latest LTS Orchestrator ...   \n",
       "337       356645  When we try to run the process from Orchestrat...   \n",
       "1502      364842  I have a test Process that just opens a web pa...   \n",
       "1552      365153  After upgrading to Orchestrator version 2019.4...   \n",
       "1598      365561  UiPath needs to run as administrator to get th...   \n",
       "1763      366924  We have issue on installation orchestrator. We...   \n",
       "1812      367358  Hi\\r\\n\\r\\nOur company has a on-premise orchest...   \n",
       "1521      364996  We don't have net connectivity for the VDI(Orc...   \n",
       "\n",
       "     Related_To__c  Sub_Component__c  \\\n",
       "1172  Orchestrator          Packages   \n",
       "300         Studio      UiAutomation   \n",
       "1793  Orchestrator           Upgrade   \n",
       "337          Robot  Robot_Resolution   \n",
       "1502         Robot    Driver_Firefox   \n",
       "1552  Orchestrator           Upgrade   \n",
       "1598        Studio         Selectors   \n",
       "1763  Orchestrator      Installation   \n",
       "1812  Orchestrator      Installation   \n",
       "1521  Orchestrator          Packages   \n",
       "\n",
       "                                                Subject  \n",
       "1172                     Orchestrator Technical Support  \n",
       "300   After triggering attended robot using user eve...  \n",
       "1793             Issue Updating Production Orchestrator  \n",
       "337                     Robot screen resolution problem  \n",
       "1502              Still Problems with Firefox Extension  \n",
       "1552  Orchestrator application automatically stops a...  \n",
       "1598  admin access is needed for UiPath to get the s...  \n",
       "1763                     Unable to install orchestrator  \n",
       "1812   Do you have an orchestrator implementation plan?  \n",
       "1521  Need help on updating packages for Studio/Orch...  "
      ]
     },
     "execution_count": 8,
     "metadata": {},
     "output_type": "execute_result"
    }
   ],
   "source": [
    "df.sample(10)"
   ]
  },
  {
   "cell_type": "code",
   "execution_count": 9,
   "metadata": {},
   "outputs": [],
   "source": [
    "df_new = df.head(600)"
   ]
  },
  {
   "cell_type": "code",
   "execution_count": 10,
   "metadata": {},
   "outputs": [],
   "source": [
    "df1_300 = df_new.head(300)\n",
    "df2_300 = df_new.tail(300)"
   ]
  },
  {
   "cell_type": "code",
   "execution_count": 11,
   "metadata": {},
   "outputs": [],
   "source": [
    "chetan_orch = df1_300.head(150)\n",
    "tuhin_orch = df1_300.tail(150)\n",
    "jishnu_orch = df2_300.head(150)\n",
    "biswa_orch = df2_300.tail(150)"
   ]
  },
  {
   "cell_type": "code",
   "execution_count": 12,
   "metadata": {},
   "outputs": [],
   "source": [
    "chetan_orch.to_excel('chetan_orch150.xlsx')\n",
    "tuhin_orch.to_excel('tuhin_orch150.xlsx')\n",
    "jishnu_orch.to_excel('jishnu_orch150.xlsx')\n",
    "biswa_orch.to_excel('biswa_orch150.xlsx')"
   ]
  },
  {
   "cell_type": "code",
   "execution_count": 13,
   "metadata": {},
   "outputs": [
    {
     "data": {
      "text/html": [
       "<div>\n",
       "<style scoped>\n",
       "    .dataframe tbody tr th:only-of-type {\n",
       "        vertical-align: middle;\n",
       "    }\n",
       "\n",
       "    .dataframe tbody tr th {\n",
       "        vertical-align: top;\n",
       "    }\n",
       "\n",
       "    .dataframe thead th {\n",
       "        text-align: right;\n",
       "    }\n",
       "</style>\n",
       "<table border=\"1\" class=\"dataframe\">\n",
       "  <thead>\n",
       "    <tr style=\"text-align: right;\">\n",
       "      <th></th>\n",
       "      <th>CaseNumber</th>\n",
       "      <th>Description</th>\n",
       "      <th>Related_To__c</th>\n",
       "      <th>Sub_Component__c</th>\n",
       "      <th>Subject</th>\n",
       "    </tr>\n",
       "  </thead>\n",
       "  <tbody>\n",
       "    <tr>\n",
       "      <th>450</th>\n",
       "      <td>357470</td>\n",
       "      <td>Hello,\\r\\nwe are thinking about implement the ...</td>\n",
       "      <td>Orchestrator</td>\n",
       "      <td>Login</td>\n",
       "      <td>Windows Authentication/Automatic Enrollment of...</td>\n",
       "    </tr>\n",
       "    <tr>\n",
       "      <th>451</th>\n",
       "      <td>357476</td>\n",
       "      <td>This ticket is related with case 00343082 (att...</td>\n",
       "      <td>Orchestrator</td>\n",
       "      <td>Robot_Orchestrator_Connection</td>\n",
       "      <td>Not able to connect robot to Orchestrator (rel...</td>\n",
       "    </tr>\n",
       "    <tr>\n",
       "      <th>452</th>\n",
       "      <td>357480</td>\n",
       "      <td>We have been developing an automation in Citri...</td>\n",
       "      <td>Studio</td>\n",
       "      <td>Activities_Others</td>\n",
       "      <td>Need Support in Image Recognition</td>\n",
       "    </tr>\n",
       "    <tr>\n",
       "      <th>453</th>\n",
       "      <td>357484</td>\n",
       "      <td>UIPath core activities are missing when I open...</td>\n",
       "      <td>Studio</td>\n",
       "      <td>UiAutomation</td>\n",
       "      <td>UIPath Studio - core activities missing</td>\n",
       "    </tr>\n",
       "    <tr>\n",
       "      <th>454</th>\n",
       "      <td>357506</td>\n",
       "      <td>When running my robot as AGENT (directly on th...</td>\n",
       "      <td>Robot</td>\n",
       "      <td>Robot_Executor</td>\n",
       "      <td>Job fails with Error 1680</td>\n",
       "    </tr>\n",
       "    <tr>\n",
       "      <th>455</th>\n",
       "      <td>357513</td>\n",
       "      <td>We have the following error in some jobs:\\r\\n\"...</td>\n",
       "      <td>Orchestrator</td>\n",
       "      <td>Jobs</td>\n",
       "      <td>Bad Orchestrator response: 500 - Internal Serv...</td>\n",
       "    </tr>\n",
       "    <tr>\n",
       "      <th>456</th>\n",
       "      <td>357520</td>\n",
       "      <td>While reading an excel sheet using Read Range ...</td>\n",
       "      <td>Studio</td>\n",
       "      <td>Activities_Excel</td>\n",
       "      <td>Excel Read Error</td>\n",
       "    </tr>\n",
       "    <tr>\n",
       "      <th>457</th>\n",
       "      <td>357528</td>\n",
       "      <td>Hello,\\r\\nI opened a ticket a few days ago, th...</td>\n",
       "      <td>Orchestrator</td>\n",
       "      <td>Queues</td>\n",
       "      <td>Impossiblity to delete Queues from Orchestrator</td>\n",
       "    </tr>\n",
       "    <tr>\n",
       "      <th>458</th>\n",
       "      <td>357534</td>\n",
       "      <td>When running a process on UiRobot the Robot st...</td>\n",
       "      <td>Robot</td>\n",
       "      <td>Robot_Executor</td>\n",
       "      <td>UiRobot execution failed due to error</td>\n",
       "    </tr>\n",
       "    <tr>\n",
       "      <th>459</th>\n",
       "      <td>357562</td>\n",
       "      <td>When running process, robot hangs and will thr...</td>\n",
       "      <td>Studio</td>\n",
       "      <td>UiAutomation</td>\n",
       "      <td>UiElement no longer valid</td>\n",
       "    </tr>\n",
       "  </tbody>\n",
       "</table>\n",
       "</div>"
      ],
      "text/plain": [
       "     CaseNumber                                        Description  \\\n",
       "450      357470  Hello,\\r\\nwe are thinking about implement the ...   \n",
       "451      357476  This ticket is related with case 00343082 (att...   \n",
       "452      357480  We have been developing an automation in Citri...   \n",
       "453      357484  UIPath core activities are missing when I open...   \n",
       "454      357506  When running my robot as AGENT (directly on th...   \n",
       "455      357513  We have the following error in some jobs:\\r\\n\"...   \n",
       "456      357520  While reading an excel sheet using Read Range ...   \n",
       "457      357528  Hello,\\r\\nI opened a ticket a few days ago, th...   \n",
       "458      357534  When running a process on UiRobot the Robot st...   \n",
       "459      357562  When running process, robot hangs and will thr...   \n",
       "\n",
       "    Related_To__c               Sub_Component__c  \\\n",
       "450  Orchestrator                          Login   \n",
       "451  Orchestrator  Robot_Orchestrator_Connection   \n",
       "452        Studio              Activities_Others   \n",
       "453        Studio                   UiAutomation   \n",
       "454         Robot                 Robot_Executor   \n",
       "455  Orchestrator                           Jobs   \n",
       "456        Studio               Activities_Excel   \n",
       "457  Orchestrator                         Queues   \n",
       "458         Robot                 Robot_Executor   \n",
       "459        Studio                   UiAutomation   \n",
       "\n",
       "                                               Subject  \n",
       "450  Windows Authentication/Automatic Enrollment of...  \n",
       "451  Not able to connect robot to Orchestrator (rel...  \n",
       "452                  Need Support in Image Recognition  \n",
       "453            UIPath Studio - core activities missing  \n",
       "454                          Job fails with Error 1680  \n",
       "455  Bad Orchestrator response: 500 - Internal Serv...  \n",
       "456                                   Excel Read Error  \n",
       "457    Impossiblity to delete Queues from Orchestrator  \n",
       "458              UiRobot execution failed due to error  \n",
       "459                          UiElement no longer valid  "
      ]
     },
     "execution_count": 13,
     "metadata": {},
     "output_type": "execute_result"
    }
   ],
   "source": [
    "biswa_orch.head(10)"
   ]
  },
  {
   "cell_type": "code",
   "execution_count": 69,
   "metadata": {},
   "outputs": [
    {
     "name": "stdout",
     "output_type": "stream",
     "text": [
      "  *\n",
      " **\n",
      "***\n",
      "****\n",
      "*****\n"
     ]
    }
   ],
   "source": [
    "for i in range(5):\n",
    "    print(\" \"*(3-i-1)+\"*\"*(i+1))\n",
    "    #print(\"*\"*(i+1))\n",
    "    #print(\"\\n\")"
   ]
  },
  {
   "cell_type": "code",
   "execution_count": 26,
   "metadata": {},
   "outputs": [
    {
     "name": "stdout",
     "output_type": "stream",
     "text": [
      "15\n",
      "10 14\n"
     ]
    }
   ],
   "source": [
    "ar = [3,2,1,3]\n",
    "total = 0\n",
    "for val in arr:\n",
    "    total += val\n",
    "lst = []\n",
    "for val in arr:\n",
    "    lst.append(total-val)    \n",
    "print(total)\n",
    "print(str(min(lst))+\" \"+str(max(lst)))"
   ]
  },
  {
   "cell_type": "code",
   "execution_count": 28,
   "metadata": {},
   "outputs": [
    {
     "name": "stdout",
     "output_type": "stream",
     "text": [
      "2\n"
     ]
    }
   ],
   "source": [
    "ar = [3,2,1,3]\n",
    "max_val = max(ar)\n",
    "count = 0\n",
    "for val in ar:\n",
    "    if val == max_val:\n",
    "        count +=1\n",
    "print(count)"
   ]
  },
  {
   "cell_type": "code",
   "execution_count": 45,
   "metadata": {},
   "outputs": [
    {
     "name": "stdout",
     "output_type": "stream",
     "text": [
      "13:05:45\n"
     ]
    }
   ],
   "source": [
    "s = \"01:05:45PM\"\n",
    "if s.endswith(\"PM\"):\n",
    "    strpstr = s.rstrip(\"PM\")\n",
    "    lst = strpstr.split(\":\")\n",
    "    hr24=int(lst[0])+12\n",
    "    print(str(hr24)+\":\"+lst[1]+\":\"+lst[2])\n",
    "elif s.endswith(\"AM\"):\n",
    "    stripped = s.rstrip(\"AM\")\n",
    "    finalstr=\"\"\n",
    "    lst = stripped.split(\":\")\n",
    "    if lst[0]==\"12\":\n",
    "        finalstr = \"00:\"+lst[1]+\":\"+lst[2]\n",
    "    else:\n",
    "        finalstr = stripped\n",
    "    print(finalstr)\n",
    "    "
   ]
  },
  {
   "cell_type": "code",
   "execution_count": 65,
   "metadata": {},
   "outputs": [
    {
     "name": "stdout",
     "output_type": "stream",
     "text": [
      "[75, 67, 40, 33]\n"
     ]
    }
   ],
   "source": [
    "grades = [73,67,38,33]\n",
    "finalgrade = []\n",
    "for grade in grades:\n",
    "    if grade < 38:\n",
    "        finalgrade.append(grade)\n",
    "    elif grade%5 > 2:\n",
    "        finalgrade.append((int(grade/5)+1)*5)\n",
    "    else:\n",
    "        finalgrade.append(grade)\n",
    "print(finalgrade)"
   ]
  },
  {
   "cell_type": "code",
   "execution_count": 72,
   "metadata": {},
   "outputs": [],
   "source": [
    "str = 'tuhin'"
   ]
  },
  {
   "cell_type": "code",
   "execution_count": 71,
   "metadata": {},
   "outputs": [
    {
     "data": {
      "text/plain": [
       "'xY'"
      ]
     },
     "execution_count": 71,
     "metadata": {},
     "output_type": "execute_result"
    }
   ],
   "source": []
  },
  {
   "cell_type": "code",
   "execution_count": null,
   "metadata": {},
   "outputs": [],
   "source": []
  }
 ],
 "metadata": {
  "kernelspec": {
   "display_name": "Python 3",
   "language": "python",
   "name": "python3"
  },
  "language_info": {
   "codemirror_mode": {
    "name": "ipython",
    "version": 3
   },
   "file_extension": ".py",
   "mimetype": "text/x-python",
   "name": "python",
   "nbconvert_exporter": "python",
   "pygments_lexer": "ipython3",
   "version": "3.7.1"
  }
 },
 "nbformat": 4,
 "nbformat_minor": 2
}
